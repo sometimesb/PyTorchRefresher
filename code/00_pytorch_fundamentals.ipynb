{
  "nbformat": 4,
  "nbformat_minor": 0,
  "metadata": {
    "colab": {
      "provenance": [],
      "toc_visible": true,
      "gpuType": "T4"
    },
    "kernelspec": {
      "name": "python3",
      "display_name": "Python 3"
    },
    "language_info": {
      "name": "python"
    },
    "accelerator": "GPU"
  },
  "cells": [
    {
      "cell_type": "markdown",
      "source": [
        "## 00. PyTorch Fundamentals"
      ],
      "metadata": {
        "id": "po4abW5arZvH"
      }
    },
    {
      "cell_type": "markdown",
      "source": [],
      "metadata": {
        "id": "MYuPco36rXKM"
      }
    },
    {
      "cell_type": "code",
      "source": [
        "import torch\n",
        "import numpy as np\n",
        "import matplotlib.pyplot as plt\n",
        "print(torch.__version__)"
      ],
      "metadata": {
        "colab": {
          "base_uri": "https://localhost:8080/"
        },
        "id": "PgFN5kZVtDr3",
        "outputId": "1178b776-992a-49a3-da6b-96d5722d4f93"
      },
      "execution_count": null,
      "outputs": [
        {
          "output_type": "stream",
          "name": "stdout",
          "text": [
            "2.5.1+cu121\n"
          ]
        }
      ]
    },
    {
      "cell_type": "code",
      "source": [
        "!nvidia-smi"
      ],
      "metadata": {
        "colab": {
          "base_uri": "https://localhost:8080/"
        },
        "id": "Or-SW2lRuD3U",
        "outputId": "cb90b2bc-469c-4a84-c129-1a8f3f536415"
      },
      "execution_count": null,
      "outputs": [
        {
          "output_type": "stream",
          "name": "stdout",
          "text": [
            "/bin/bash: line 1: nvidia-smi: command not found\n"
          ]
        }
      ]
    },
    {
      "cell_type": "markdown",
      "source": [
        "## Introduction to Tensors\n",
        "\n",
        "### Creating tensors\n",
        "\n",
        "Make tensors using `torch.Tensor()`"
      ],
      "metadata": {
        "id": "FkEw_SdFu1JL"
      }
    },
    {
      "cell_type": "code",
      "source": [
        "#scalar\n",
        "scalar = torch.tensor(7)\n",
        "scalar"
      ],
      "metadata": {
        "colab": {
          "base_uri": "https://localhost:8080/"
        },
        "id": "p4RmPtbvu-Is",
        "outputId": "c430b7f9-2e5c-477e-c48c-1014d25aace2"
      },
      "execution_count": null,
      "outputs": [
        {
          "output_type": "execute_result",
          "data": {
            "text/plain": [
              "tensor(7)"
            ]
          },
          "metadata": {},
          "execution_count": 3
        }
      ]
    },
    {
      "cell_type": "code",
      "source": [
        "#dimensions\n",
        "scalar.ndim"
      ],
      "metadata": {
        "colab": {
          "base_uri": "https://localhost:8080/"
        },
        "id": "FTlZ1mijvioi",
        "outputId": "c590b8fa-ff62-4ebe-d6ab-841634147378"
      },
      "execution_count": null,
      "outputs": [
        {
          "output_type": "execute_result",
          "data": {
            "text/plain": [
              "0"
            ]
          },
          "metadata": {},
          "execution_count": 4
        }
      ]
    },
    {
      "cell_type": "code",
      "source": [
        "#get scalar tensor back as python int\n",
        "scalar.item()"
      ],
      "metadata": {
        "colab": {
          "base_uri": "https://localhost:8080/"
        },
        "id": "DUdtzxP3wUiQ",
        "outputId": "b8b566c6-4d50-4780-ed33-be1e74c72ab3"
      },
      "execution_count": null,
      "outputs": [
        {
          "output_type": "execute_result",
          "data": {
            "text/plain": [
              "7"
            ]
          },
          "metadata": {},
          "execution_count": 5
        }
      ]
    },
    {
      "cell_type": "code",
      "source": [
        "#Vector\n",
        "vector = torch.tensor([7,7])\n",
        "vector"
      ],
      "metadata": {
        "colab": {
          "base_uri": "https://localhost:8080/"
        },
        "id": "G0F33_UqwkEY",
        "outputId": "88a8a45c-014a-44a8-c59f-2fd00e562292"
      },
      "execution_count": null,
      "outputs": [
        {
          "output_type": "execute_result",
          "data": {
            "text/plain": [
              "tensor([7, 7])"
            ]
          },
          "metadata": {},
          "execution_count": 6
        }
      ]
    },
    {
      "cell_type": "code",
      "source": [
        "vector.ndim"
      ],
      "metadata": {
        "colab": {
          "base_uri": "https://localhost:8080/"
        },
        "id": "nELJGefRwtr_",
        "outputId": "cefdd087-9f6e-42f1-f3af-5ab7f9e1d08e"
      },
      "execution_count": null,
      "outputs": [
        {
          "output_type": "execute_result",
          "data": {
            "text/plain": [
              "1"
            ]
          },
          "metadata": {},
          "execution_count": 7
        }
      ]
    },
    {
      "cell_type": "code",
      "source": [
        "vector.shape"
      ],
      "metadata": {
        "colab": {
          "base_uri": "https://localhost:8080/"
        },
        "id": "5pI11G3EwxI9",
        "outputId": "c5996bfb-d878-49cc-af2f-6e938a83352b"
      },
      "execution_count": null,
      "outputs": [
        {
          "output_type": "execute_result",
          "data": {
            "text/plain": [
              "torch.Size([2])"
            ]
          },
          "metadata": {},
          "execution_count": 8
        }
      ]
    },
    {
      "cell_type": "code",
      "source": [
        "# MATRIX\n",
        "MATRIX = torch.tensor([[7,8],\n",
        "                       [9,10]])\n",
        "MATRIX"
      ],
      "metadata": {
        "colab": {
          "base_uri": "https://localhost:8080/"
        },
        "id": "tYXHwvXVw16X",
        "outputId": "8e494c3c-d6c9-4663-8b05-7fbfc7c7aefd"
      },
      "execution_count": null,
      "outputs": [
        {
          "output_type": "execute_result",
          "data": {
            "text/plain": [
              "tensor([[ 7,  8],\n",
              "        [ 9, 10]])"
            ]
          },
          "metadata": {},
          "execution_count": 9
        }
      ]
    },
    {
      "cell_type": "code",
      "source": [
        "MATRIX.ndim"
      ],
      "metadata": {
        "colab": {
          "base_uri": "https://localhost:8080/"
        },
        "id": "wJXIUi_dxP8I",
        "outputId": "dc49649e-998b-4e4c-8b93-1ded1c5e5f97"
      },
      "execution_count": null,
      "outputs": [
        {
          "output_type": "execute_result",
          "data": {
            "text/plain": [
              "2"
            ]
          },
          "metadata": {},
          "execution_count": 10
        }
      ]
    },
    {
      "cell_type": "code",
      "source": [
        "MATRIX[0]"
      ],
      "metadata": {
        "colab": {
          "base_uri": "https://localhost:8080/"
        },
        "id": "_8LM2yjoxSCL",
        "outputId": "27fe8df0-a675-444e-f8b9-25f76f693bfc"
      },
      "execution_count": null,
      "outputs": [
        {
          "output_type": "execute_result",
          "data": {
            "text/plain": [
              "tensor([7, 8])"
            ]
          },
          "metadata": {},
          "execution_count": 11
        }
      ]
    },
    {
      "cell_type": "code",
      "source": [
        "MATRIX.shape"
      ],
      "metadata": {
        "colab": {
          "base_uri": "https://localhost:8080/"
        },
        "id": "iVkYbVT-xWpV",
        "outputId": "7d215ca3-6cf0-43de-a5ad-ab9d1cebe5ea"
      },
      "execution_count": null,
      "outputs": [
        {
          "output_type": "execute_result",
          "data": {
            "text/plain": [
              "torch.Size([2, 2])"
            ]
          },
          "metadata": {},
          "execution_count": 12
        }
      ]
    },
    {
      "cell_type": "code",
      "source": [
        "#TENSOR\n",
        "TENSOR = torch.tensor([[[1,2,3],\n",
        "                        [3,6,9],\n",
        "                       [2,4,5]]])\n",
        "TENSOR"
      ],
      "metadata": {
        "colab": {
          "base_uri": "https://localhost:8080/"
        },
        "id": "LlXfUtjpxnRJ",
        "outputId": "caf45e67-b371-4c32-da57-816c4f7c7206"
      },
      "execution_count": null,
      "outputs": [
        {
          "output_type": "execute_result",
          "data": {
            "text/plain": [
              "tensor([[[1, 2, 3],\n",
              "         [3, 6, 9],\n",
              "         [2, 4, 5]]])"
            ]
          },
          "metadata": {},
          "execution_count": 13
        }
      ]
    },
    {
      "cell_type": "code",
      "source": [
        "TENSOR.ndim"
      ],
      "metadata": {
        "colab": {
          "base_uri": "https://localhost:8080/"
        },
        "id": "Sg4IgP2QyhqH",
        "outputId": "0e65db1b-d534-4da7-e85d-e87894ae983c"
      },
      "execution_count": null,
      "outputs": [
        {
          "output_type": "execute_result",
          "data": {
            "text/plain": [
              "3"
            ]
          },
          "metadata": {},
          "execution_count": 14
        }
      ]
    },
    {
      "cell_type": "code",
      "source": [
        "TENSOR.shape"
      ],
      "metadata": {
        "colab": {
          "base_uri": "https://localhost:8080/"
        },
        "id": "J92FVw-Vyj6t",
        "outputId": "2c3e81af-9031-49ba-dbff-2d29b86c567f"
      },
      "execution_count": null,
      "outputs": [
        {
          "output_type": "execute_result",
          "data": {
            "text/plain": [
              "torch.Size([1, 3, 3])"
            ]
          },
          "metadata": {},
          "execution_count": 15
        }
      ]
    },
    {
      "cell_type": "code",
      "source": [
        "#Bilal's Tensor"
      ],
      "metadata": {
        "id": "0tGxE2TqzVWu"
      },
      "execution_count": null,
      "outputs": []
    },
    {
      "cell_type": "code",
      "source": [
        "bilalTensor = torch.tensor([[[3,3,3],\n",
        "                             [5,5,5]]])"
      ],
      "metadata": {
        "id": "FHCtGY0_za8x"
      },
      "execution_count": null,
      "outputs": []
    },
    {
      "cell_type": "code",
      "source": [
        "bilalTensor.ndim"
      ],
      "metadata": {
        "colab": {
          "base_uri": "https://localhost:8080/"
        },
        "id": "YdgJBMeBzxD2",
        "outputId": "9a53eb9b-61b6-4271-ace4-84e855a6bc36"
      },
      "execution_count": null,
      "outputs": [
        {
          "output_type": "execute_result",
          "data": {
            "text/plain": [
              "3"
            ]
          },
          "metadata": {},
          "execution_count": 18
        }
      ]
    },
    {
      "cell_type": "code",
      "source": [
        "bilalTensor.shape"
      ],
      "metadata": {
        "colab": {
          "base_uri": "https://localhost:8080/"
        },
        "id": "zvZ7e0tCz1_4",
        "outputId": "ac718aae-62b9-4d10-c5b6-51c52001a875"
      },
      "execution_count": null,
      "outputs": [
        {
          "output_type": "execute_result",
          "data": {
            "text/plain": [
              "torch.Size([1, 2, 3])"
            ]
          },
          "metadata": {},
          "execution_count": 19
        }
      ]
    },
    {
      "cell_type": "markdown",
      "source": [
        "### Random Tensors\n",
        "\n",
        "Why random tensors? You should start with Random tensors and then adjust those to better represent the data.\n",
        "\n",
        "`Start with random numbers -> Look at data -> update random numbers -> look at data -> update random numbers`"
      ],
      "metadata": {
        "id": "ZMHubngr0k6B"
      }
    },
    {
      "cell_type": "code",
      "source": [
        "#Create a random tensor of size(3,4)\n",
        "random_tensor = torch.rand(3,4)\n",
        "random_tensor"
      ],
      "metadata": {
        "colab": {
          "base_uri": "https://localhost:8080/"
        },
        "id": "RfAzXoZ91ADJ",
        "outputId": "d6f49666-d497-4ed0-e0e1-aeef4b9b2e66"
      },
      "execution_count": null,
      "outputs": [
        {
          "output_type": "execute_result",
          "data": {
            "text/plain": [
              "tensor([[0.0528, 0.8571, 0.8446, 0.5835],\n",
              "        [0.1320, 0.8178, 0.1659, 0.2388],\n",
              "        [0.1614, 0.0238, 0.9092, 0.5670]])"
            ]
          },
          "metadata": {},
          "execution_count": 20
        }
      ]
    },
    {
      "cell_type": "code",
      "source": [
        "#random tensor with similar shape to image tensor\n",
        "randomImageSizeTensor = torch.rand(size=(224,224,3))\n",
        "randomImageSizeTensor.shape, randomImageSizeTensor.ndim"
      ],
      "metadata": {
        "colab": {
          "base_uri": "https://localhost:8080/"
        },
        "id": "mPEBCKxG187G",
        "outputId": "0f541a41-5b7b-4f77-8dd6-fd2a576eab17"
      },
      "execution_count": null,
      "outputs": [
        {
          "output_type": "execute_result",
          "data": {
            "text/plain": [
              "(torch.Size([224, 224, 3]), 3)"
            ]
          },
          "metadata": {},
          "execution_count": 21
        }
      ]
    },
    {
      "cell_type": "markdown",
      "source": [
        "### Zero's and Ones Tensor"
      ],
      "metadata": {
        "id": "GKFsZRF485n5"
      }
    },
    {
      "cell_type": "code",
      "source": [
        "#create a tensor of all zeros\n",
        "zero = torch.zeros(size=(3,5,2))\n",
        "zero"
      ],
      "metadata": {
        "colab": {
          "base_uri": "https://localhost:8080/"
        },
        "id": "_nljSzyu88ez",
        "outputId": "571772b2-10d9-47df-9b54-c77375d77eda"
      },
      "execution_count": null,
      "outputs": [
        {
          "output_type": "execute_result",
          "data": {
            "text/plain": [
              "tensor([[[0., 0.],\n",
              "         [0., 0.],\n",
              "         [0., 0.],\n",
              "         [0., 0.],\n",
              "         [0., 0.]],\n",
              "\n",
              "        [[0., 0.],\n",
              "         [0., 0.],\n",
              "         [0., 0.],\n",
              "         [0., 0.],\n",
              "         [0., 0.]],\n",
              "\n",
              "        [[0., 0.],\n",
              "         [0., 0.],\n",
              "         [0., 0.],\n",
              "         [0., 0.],\n",
              "         [0., 0.]]])"
            ]
          },
          "metadata": {},
          "execution_count": 22
        }
      ]
    },
    {
      "cell_type": "code",
      "source": [
        "ones = torch.ones(3,4)\n",
        "ones"
      ],
      "metadata": {
        "colab": {
          "base_uri": "https://localhost:8080/"
        },
        "id": "dzMwlQVq9uoW",
        "outputId": "5cd7a594-5b4b-45b6-e933-7c8ccd155c70"
      },
      "execution_count": null,
      "outputs": [
        {
          "output_type": "execute_result",
          "data": {
            "text/plain": [
              "tensor([[1., 1., 1., 1.],\n",
              "        [1., 1., 1., 1.],\n",
              "        [1., 1., 1., 1.]])"
            ]
          },
          "metadata": {},
          "execution_count": 23
        }
      ]
    },
    {
      "cell_type": "markdown",
      "source": [
        "### Creating a range of tensors and tensors like"
      ],
      "metadata": {
        "id": "i7i8e5sk--XM"
      }
    },
    {
      "cell_type": "code",
      "source": [
        "# Use torch.range()\n",
        "oneToTen = torch.arange(0,10)\n",
        "oneToTen"
      ],
      "metadata": {
        "colab": {
          "base_uri": "https://localhost:8080/"
        },
        "id": "dgKn_lpT_BB9",
        "outputId": "d92b23f9-f3b6-45ec-bd4b-22fa9de3e446"
      },
      "execution_count": null,
      "outputs": [
        {
          "output_type": "execute_result",
          "data": {
            "text/plain": [
              "tensor([0, 1, 2, 3, 4, 5, 6, 7, 8, 9])"
            ]
          },
          "metadata": {},
          "execution_count": 24
        }
      ]
    },
    {
      "cell_type": "code",
      "source": [
        "# creating tensors like\n",
        "tenZeros = torch.zeros_like(input=oneToTen)\n",
        "tenZeros"
      ],
      "metadata": {
        "colab": {
          "base_uri": "https://localhost:8080/"
        },
        "id": "KcobuqSzAorT",
        "outputId": "fcfd8724-12d0-42ab-cc0b-20f3f85f2c32"
      },
      "execution_count": null,
      "outputs": [
        {
          "output_type": "execute_result",
          "data": {
            "text/plain": [
              "tensor([0, 0, 0, 0, 0, 0, 0, 0, 0, 0])"
            ]
          },
          "metadata": {},
          "execution_count": 25
        }
      ]
    },
    {
      "cell_type": "markdown",
      "source": [],
      "metadata": {
        "id": "g06MTpJHCa3c"
      }
    },
    {
      "cell_type": "code",
      "source": [
        "#bilals range and tensor like\n",
        "oneToWhatever = torch.arange(start=5,end=1220, step=94)\n",
        "oneToWhatever\n",
        "\n",
        "someZeros = torch.zeros_like(oneToWhatever)\n",
        "someZeros"
      ],
      "metadata": {
        "colab": {
          "base_uri": "https://localhost:8080/"
        },
        "id": "XT6RwnGcDJK7",
        "outputId": "b784adc4-ea22-4ecf-d606-4e540d695b31"
      },
      "execution_count": null,
      "outputs": [
        {
          "output_type": "execute_result",
          "data": {
            "text/plain": [
              "tensor([0, 0, 0, 0, 0, 0, 0, 0, 0, 0, 0, 0, 0])"
            ]
          },
          "metadata": {},
          "execution_count": 26
        }
      ]
    },
    {
      "cell_type": "markdown",
      "source": [
        "## Tensor Datatypes\n",
        "\n",
        "**Note:** Tensor datatypes is one of the 3 big errors you'll run into.\n",
        "\n",
        "1. Not right datatype\n",
        "2. Not right shape\n",
        "3. Not on the right device"
      ],
      "metadata": {
        "id": "omIZI95kFMNF"
      }
    },
    {
      "cell_type": "code",
      "source": [
        "# Float 32 tensor\n",
        "float32Tensor = torch.tensor([3.0,6.0,9.0],\n",
        "                             dtype=None, #what datatype is the tensor, eg float16, float32\n",
        "                             device=None, #None, cpu, cuda, etc. They need to be on the same device\n",
        "                             requires_grad=False) #if you want to track the gradient\n",
        "float32Tensor"
      ],
      "metadata": {
        "colab": {
          "base_uri": "https://localhost:8080/"
        },
        "id": "9-gEjiW0FN8D",
        "outputId": "5fff5e51-f1b0-468a-ed2e-05b9affb29b3"
      },
      "execution_count": null,
      "outputs": [
        {
          "output_type": "execute_result",
          "data": {
            "text/plain": [
              "tensor([3., 6., 9.])"
            ]
          },
          "metadata": {},
          "execution_count": 27
        }
      ]
    },
    {
      "cell_type": "code",
      "source": [
        "float32Tensor.dtype"
      ],
      "metadata": {
        "colab": {
          "base_uri": "https://localhost:8080/"
        },
        "id": "fXqKb7d8XDzA",
        "outputId": "6723d1e7-aa56-4698-a9bd-1fb618a78039"
      },
      "execution_count": null,
      "outputs": [
        {
          "output_type": "execute_result",
          "data": {
            "text/plain": [
              "torch.float32"
            ]
          },
          "metadata": {},
          "execution_count": 28
        }
      ]
    },
    {
      "cell_type": "code",
      "source": [
        "float16Tensor = float32Tensor.type(torch.float16)\n",
        "float16Tensor"
      ],
      "metadata": {
        "colab": {
          "base_uri": "https://localhost:8080/"
        },
        "id": "uRnLxk7JXWLg",
        "outputId": "ca66589a-a495-401f-fbfc-09b951e9f776"
      },
      "execution_count": null,
      "outputs": [
        {
          "output_type": "execute_result",
          "data": {
            "text/plain": [
              "tensor([3., 6., 9.], dtype=torch.float16)"
            ]
          },
          "metadata": {},
          "execution_count": 29
        }
      ]
    },
    {
      "cell_type": "code",
      "source": [
        "(float16Tensor * float32Tensor).dtype"
      ],
      "metadata": {
        "colab": {
          "base_uri": "https://localhost:8080/"
        },
        "id": "VgMKZ9hPX64Z",
        "outputId": "4d6e7792-297b-4b6a-a714-858f91c4c952"
      },
      "execution_count": null,
      "outputs": [
        {
          "output_type": "execute_result",
          "data": {
            "text/plain": [
              "torch.float32"
            ]
          },
          "metadata": {},
          "execution_count": 30
        }
      ]
    },
    {
      "cell_type": "code",
      "source": [
        "int32Tensor = torch.tensor([3,6,9],\n",
        "                           dtype=torch.int32)\n",
        "int32Tensor"
      ],
      "metadata": {
        "colab": {
          "base_uri": "https://localhost:8080/"
        },
        "id": "vO8g8pr3Yfjm",
        "outputId": "e7c852e7-5e09-4383-dc5e-fb62bdd8677f"
      },
      "execution_count": null,
      "outputs": [
        {
          "output_type": "execute_result",
          "data": {
            "text/plain": [
              "tensor([3, 6, 9], dtype=torch.int32)"
            ]
          },
          "metadata": {},
          "execution_count": 31
        }
      ]
    },
    {
      "cell_type": "markdown",
      "source": [
        "## Getting information from Tensors\n",
        "1. Tensors not right datatype - `tensor.dtype`\n",
        "2. Tensors not right shape - `tensor.shape`\n",
        "3. Tensors not on the right device - `tensor.device`\n",
        "\n"
      ],
      "metadata": {
        "id": "JrJGx_b-ZhbL"
      }
    },
    {
      "cell_type": "code",
      "source": [
        "someTensor = torch.rand(3,4)\n",
        "someTensor"
      ],
      "metadata": {
        "colab": {
          "base_uri": "https://localhost:8080/"
        },
        "id": "Yik2RpzmZ-i2",
        "outputId": "ce2db4f5-5fcd-4c25-b6ce-9c031a7b6250"
      },
      "execution_count": null,
      "outputs": [
        {
          "output_type": "execute_result",
          "data": {
            "text/plain": [
              "tensor([[0.6925, 0.3999, 0.2783, 0.0232],\n",
              "        [0.3750, 0.4844, 0.1370, 0.5832],\n",
              "        [0.9462, 0.2729, 0.8593, 0.0128]])"
            ]
          },
          "metadata": {},
          "execution_count": 32
        }
      ]
    },
    {
      "cell_type": "code",
      "source": [
        "print(someTensor)\n",
        "print(f\"Datatype of tensor: {someTensor.dtype}\")\n",
        "print(f\"Shape of Tensor: {someTensor.shape}\")\n",
        "print(f\"Device of Tensor: {someTensor.device}\")"
      ],
      "metadata": {
        "colab": {
          "base_uri": "https://localhost:8080/"
        },
        "id": "akwlbonaadY5",
        "outputId": "0de3e6a8-fbea-49a3-d36c-4a7fd02eddb0"
      },
      "execution_count": null,
      "outputs": [
        {
          "output_type": "stream",
          "name": "stdout",
          "text": [
            "tensor([[0.6925, 0.3999, 0.2783, 0.0232],\n",
            "        [0.3750, 0.4844, 0.1370, 0.5832],\n",
            "        [0.9462, 0.2729, 0.8593, 0.0128]])\n",
            "Datatype of tensor: torch.float32\n",
            "Shape of Tensor: torch.Size([3, 4])\n",
            "Device of Tensor: cpu\n"
          ]
        }
      ]
    },
    {
      "cell_type": "code",
      "source": [
        "someTensorNewDevice = someTensor.to(torch.device('cpu'))"
      ],
      "metadata": {
        "id": "vUypX36WbLdR"
      },
      "execution_count": null,
      "outputs": []
    },
    {
      "cell_type": "markdown",
      "source": [
        "## Manipulating Tensors (tensor operations)\n",
        "\n",
        "Operations include:\n",
        "1. Addition\n",
        "2. Subtraction\n",
        "3. Multiplication (element-wise)\n",
        "4. Division\n",
        "5. Matrix multiplicaton\n"
      ],
      "metadata": {
        "id": "b7FuuHB2bvB1"
      }
    },
    {
      "cell_type": "code",
      "source": [
        "# Create a tensor and add to it\n",
        "tensor = torch.tensor([1,2,3])\n",
        "tensor + 10"
      ],
      "metadata": {
        "colab": {
          "base_uri": "https://localhost:8080/"
        },
        "id": "69aSnJXgcOzE",
        "outputId": "3ef0989e-00a9-4968-bf41-2f1fba0ae995"
      },
      "execution_count": null,
      "outputs": [
        {
          "output_type": "execute_result",
          "data": {
            "text/plain": [
              "tensor([11, 12, 13])"
            ]
          },
          "metadata": {},
          "execution_count": 35
        }
      ]
    },
    {
      "cell_type": "code",
      "source": [
        "#Multiply\n",
        "tensor * 10"
      ],
      "metadata": {
        "colab": {
          "base_uri": "https://localhost:8080/"
        },
        "id": "Jso71UHuchAi",
        "outputId": "7d830651-fdab-490d-f885-7ce349719817"
      },
      "execution_count": null,
      "outputs": [
        {
          "output_type": "execute_result",
          "data": {
            "text/plain": [
              "tensor([10, 20, 30])"
            ]
          },
          "metadata": {},
          "execution_count": 36
        }
      ]
    },
    {
      "cell_type": "code",
      "source": [
        "#subtract\n",
        "tensor - 10"
      ],
      "metadata": {
        "colab": {
          "base_uri": "https://localhost:8080/"
        },
        "id": "5eFbdNBocsFW",
        "outputId": "40ead248-128c-44e1-d054-e2d0ed8def95"
      },
      "execution_count": null,
      "outputs": [
        {
          "output_type": "execute_result",
          "data": {
            "text/plain": [
              "tensor([-9, -8, -7])"
            ]
          },
          "metadata": {},
          "execution_count": 37
        }
      ]
    },
    {
      "cell_type": "code",
      "source": [
        "#PyTorch\n",
        "torch.mul(tensor,10)"
      ],
      "metadata": {
        "colab": {
          "base_uri": "https://localhost:8080/"
        },
        "id": "fmVUJjYvcuIQ",
        "outputId": "1b3095a1-cc62-414b-9a54-f21fa182b44d"
      },
      "execution_count": null,
      "outputs": [
        {
          "output_type": "execute_result",
          "data": {
            "text/plain": [
              "tensor([10, 20, 30])"
            ]
          },
          "metadata": {},
          "execution_count": 38
        }
      ]
    },
    {
      "cell_type": "code",
      "source": [
        "torch.add(tensor,10)"
      ],
      "metadata": {
        "colab": {
          "base_uri": "https://localhost:8080/"
        },
        "id": "shqvr8TgeRkY",
        "outputId": "a4f6a3d1-2467-4b0e-92f2-d3c9378eca50"
      },
      "execution_count": null,
      "outputs": [
        {
          "output_type": "execute_result",
          "data": {
            "text/plain": [
              "tensor([11, 12, 13])"
            ]
          },
          "metadata": {},
          "execution_count": 39
        }
      ]
    },
    {
      "cell_type": "markdown",
      "source": [
        "## Matrix Multiplication\n",
        "1. Element-wise multiplication\n",
        "2. Matrix Multiplication (dot product)\n",
        "\n"
      ],
      "metadata": {
        "id": "1555toX3iIDW"
      }
    },
    {
      "cell_type": "code",
      "source": [
        "print(tensor, \"*\", tensor)\n",
        "print(f\"Equals: {tensor *tensor}\")"
      ],
      "metadata": {
        "colab": {
          "base_uri": "https://localhost:8080/"
        },
        "id": "7mVJoo5sjFGi",
        "outputId": "0edb7380-ecaf-446b-904b-d2182b0d0b43"
      },
      "execution_count": null,
      "outputs": [
        {
          "output_type": "stream",
          "name": "stdout",
          "text": [
            "tensor([1, 2, 3]) * tensor([1, 2, 3])\n",
            "Equals: tensor([1, 4, 9])\n"
          ]
        }
      ]
    },
    {
      "cell_type": "code",
      "source": [
        "#Matrix multiplication\n",
        "torch.matmul(tensor,tensor)"
      ],
      "metadata": {
        "colab": {
          "base_uri": "https://localhost:8080/"
        },
        "id": "HyO0ZjQdj9TS",
        "outputId": "965bbd46-84c2-4885-bebd-6121ffdb6cf7"
      },
      "execution_count": null,
      "outputs": [
        {
          "output_type": "execute_result",
          "data": {
            "text/plain": [
              "tensor(14)"
            ]
          },
          "metadata": {},
          "execution_count": 41
        }
      ]
    },
    {
      "cell_type": "code",
      "source": [
        "%%time\n",
        "value = 0\n",
        "for i in range(len(tensor)):\n",
        "  value += tensor[i] * tensor[i]\n",
        "print(value)"
      ],
      "metadata": {
        "colab": {
          "base_uri": "https://localhost:8080/"
        },
        "id": "omONzzWglQyC",
        "outputId": "ae5b0e60-7a82-4ecd-8d64-04f5cd7e3ce6"
      },
      "execution_count": null,
      "outputs": [
        {
          "output_type": "stream",
          "name": "stdout",
          "text": [
            "tensor(14)\n",
            "CPU times: user 2.19 ms, sys: 196 µs, total: 2.39 ms\n",
            "Wall time: 3.8 ms\n"
          ]
        }
      ]
    },
    {
      "cell_type": "code",
      "source": [
        "%%time\n",
        "torch.matmul(tensor,tensor)"
      ],
      "metadata": {
        "colab": {
          "base_uri": "https://localhost:8080/"
        },
        "id": "5pdZXA7rlcEi",
        "outputId": "c958a60d-bcee-4c5b-a506-622a62fdd193"
      },
      "execution_count": null,
      "outputs": [
        {
          "output_type": "stream",
          "name": "stdout",
          "text": [
            "CPU times: user 1.32 ms, sys: 0 ns, total: 1.32 ms\n",
            "Wall time: 2.16 ms\n"
          ]
        },
        {
          "output_type": "execute_result",
          "data": {
            "text/plain": [
              "tensor(14)"
            ]
          },
          "metadata": {},
          "execution_count": 43
        }
      ]
    },
    {
      "cell_type": "markdown",
      "source": [
        "### Matrix Multiplication\n",
        "1. Element-wise multiplication\n",
        "2. Matrix multiplication (dot product)\n",
        "\n",
        "1. The **inner dimensions** must match:\n",
        "(3,2) @ (2,3)\n",
        "(a,b) @ (c,d) -> final is a x d where b,c is same.\n"
      ],
      "metadata": {
        "id": "l7XVZH2MmKNc"
      }
    },
    {
      "cell_type": "code",
      "source": [
        "torch.matmul(torch.rand(size=(3,2)), torch.rand(size=(2,3)))"
      ],
      "metadata": {
        "colab": {
          "base_uri": "https://localhost:8080/"
        },
        "id": "NmHIT4BWnCEi",
        "outputId": "cefc84e3-faeb-46fe-c1c2-3f856a470204"
      },
      "execution_count": null,
      "outputs": [
        {
          "output_type": "execute_result",
          "data": {
            "text/plain": [
              "tensor([[0.3689, 0.0427, 0.0354],\n",
              "        [0.5467, 0.0627, 0.0517],\n",
              "        [1.0785, 0.3551, 0.4465]])"
            ]
          },
          "metadata": {},
          "execution_count": 44
        }
      ]
    },
    {
      "cell_type": "markdown",
      "source": [
        "## One of the most common errors: Shape Errors!"
      ],
      "metadata": {
        "id": "znIY0LM1o7mE"
      }
    },
    {
      "cell_type": "code",
      "source": [
        "#Shapes for Matrix Multiplication\n",
        "tensorA = torch.tensor([[1,2],\n",
        "                        [3,4],\n",
        "                        [5,6]])\n",
        "                        #3x2\n",
        "\n",
        "tensorB = torch.tensor([[7,10],\n",
        "                        [8,11],\n",
        "                        [9,12]])\n",
        "                        #3x2\n",
        "#3x2 by 3x2 not allowed\n",
        "# torch.matmul(tensorA,tensorB)"
      ],
      "metadata": {
        "id": "3E9jwmiMpAAK"
      },
      "execution_count": null,
      "outputs": []
    },
    {
      "cell_type": "code",
      "source": [
        "tensorB"
      ],
      "metadata": {
        "colab": {
          "base_uri": "https://localhost:8080/"
        },
        "id": "-vZSdY1bszhV",
        "outputId": "0b82cb75-dede-447f-ae9e-7b5e9df60798"
      },
      "execution_count": null,
      "outputs": [
        {
          "output_type": "execute_result",
          "data": {
            "text/plain": [
              "tensor([[ 7, 10],\n",
              "        [ 8, 11],\n",
              "        [ 9, 12]])"
            ]
          },
          "metadata": {},
          "execution_count": 46
        }
      ]
    },
    {
      "cell_type": "code",
      "source": [
        "tensorB.T, tensorB.T.shape"
      ],
      "metadata": {
        "colab": {
          "base_uri": "https://localhost:8080/"
        },
        "id": "ruQhXg5cs7ZI",
        "outputId": "d2ca2656-fb16-4f40-ef51-c9aa3d39d6e5"
      },
      "execution_count": null,
      "outputs": [
        {
          "output_type": "execute_result",
          "data": {
            "text/plain": [
              "(tensor([[ 7,  8,  9],\n",
              "         [10, 11, 12]]),\n",
              " torch.Size([2, 3]))"
            ]
          },
          "metadata": {},
          "execution_count": 47
        }
      ]
    },
    {
      "cell_type": "code",
      "source": [
        "torch.matmul(tensorA,tensorB.T)"
      ],
      "metadata": {
        "colab": {
          "base_uri": "https://localhost:8080/"
        },
        "id": "pc5DpoF1wJ_x",
        "outputId": "4a27c47c-3bf1-45cc-f81b-6475a0599847"
      },
      "execution_count": null,
      "outputs": [
        {
          "output_type": "execute_result",
          "data": {
            "text/plain": [
              "tensor([[ 27,  30,  33],\n",
              "        [ 61,  68,  75],\n",
              "        [ 95, 106, 117]])"
            ]
          },
          "metadata": {},
          "execution_count": 48
        }
      ]
    },
    {
      "cell_type": "markdown",
      "source": [
        "## Finding the min, max, mean, sum, etc (tensor aggregation)\n"
      ],
      "metadata": {
        "id": "QzYTg4WCwrQB"
      }
    },
    {
      "cell_type": "code",
      "source": [
        "x = torch.arange(1,100,10)\n",
        "x, x.dtype"
      ],
      "metadata": {
        "colab": {
          "base_uri": "https://localhost:8080/"
        },
        "id": "qRIunVo5xixu",
        "outputId": "37325055-8cc5-4bc2-864d-31cdf0a13c8c"
      },
      "execution_count": null,
      "outputs": [
        {
          "output_type": "execute_result",
          "data": {
            "text/plain": [
              "(tensor([ 1, 11, 21, 31, 41, 51, 61, 71, 81, 91]), torch.int64)"
            ]
          },
          "metadata": {},
          "execution_count": 49
        }
      ]
    },
    {
      "cell_type": "code",
      "source": [
        "#Find the min\n",
        "torch.min(x), x.min()"
      ],
      "metadata": {
        "colab": {
          "base_uri": "https://localhost:8080/"
        },
        "id": "E7_wjciwxnFo",
        "outputId": "b0f13a8f-c0b5-487d-9eb2-fc50560beeef"
      },
      "execution_count": null,
      "outputs": [
        {
          "output_type": "execute_result",
          "data": {
            "text/plain": [
              "(tensor(1), tensor(1))"
            ]
          },
          "metadata": {},
          "execution_count": 50
        }
      ]
    },
    {
      "cell_type": "code",
      "source": [
        "torch.max(x), x.max()"
      ],
      "metadata": {
        "colab": {
          "base_uri": "https://localhost:8080/"
        },
        "id": "YUo8CzLsxwbV",
        "outputId": "38299f51-98a6-4b34-b3c0-2b907712e5fc"
      },
      "execution_count": null,
      "outputs": [
        {
          "output_type": "execute_result",
          "data": {
            "text/plain": [
              "(tensor(91), tensor(91))"
            ]
          },
          "metadata": {},
          "execution_count": 51
        }
      ]
    },
    {
      "cell_type": "code",
      "source": [
        "torch.mean(x.type(torch.float32)), x.type(torch.float32).mean()"
      ],
      "metadata": {
        "colab": {
          "base_uri": "https://localhost:8080/"
        },
        "id": "htJ9UnP3x28f",
        "outputId": "2e8c9840-dfee-439b-c718-5bb40f5ed883"
      },
      "execution_count": null,
      "outputs": [
        {
          "output_type": "execute_result",
          "data": {
            "text/plain": [
              "(tensor(46.), tensor(46.))"
            ]
          },
          "metadata": {},
          "execution_count": 52
        }
      ]
    },
    {
      "cell_type": "code",
      "source": [
        "%%time\n",
        "torch.sum(x.type((torch.float32)))"
      ],
      "metadata": {
        "colab": {
          "base_uri": "https://localhost:8080/"
        },
        "id": "9CNM1fj_zMRH",
        "outputId": "05d9a424-4c28-49b3-c202-1a2618aa0308"
      },
      "execution_count": null,
      "outputs": [
        {
          "output_type": "stream",
          "name": "stdout",
          "text": [
            "CPU times: user 201 µs, sys: 32 µs, total: 233 µs\n",
            "Wall time: 242 µs\n"
          ]
        },
        {
          "output_type": "execute_result",
          "data": {
            "text/plain": [
              "tensor(460.)"
            ]
          },
          "metadata": {},
          "execution_count": 53
        }
      ]
    },
    {
      "cell_type": "code",
      "source": [
        "%%time\n",
        "x.sum()\n",
        "\n",
        "#exact same time?"
      ],
      "metadata": {
        "colab": {
          "base_uri": "https://localhost:8080/"
        },
        "id": "MFCqEEvIzP4Y",
        "outputId": "d17a3a2a-e38b-443a-b4c2-556249c69fd9"
      },
      "execution_count": null,
      "outputs": [
        {
          "output_type": "stream",
          "name": "stdout",
          "text": [
            "CPU times: user 141 µs, sys: 22 µs, total: 163 µs\n",
            "Wall time: 173 µs\n"
          ]
        },
        {
          "output_type": "execute_result",
          "data": {
            "text/plain": [
              "tensor(460)"
            ]
          },
          "metadata": {},
          "execution_count": 54
        }
      ]
    },
    {
      "cell_type": "markdown",
      "source": [
        "## Finding the positional min and max"
      ],
      "metadata": {
        "id": "ZX7JZkIrxw5w"
      }
    },
    {
      "cell_type": "code",
      "source": [
        "#find the position in tensor that has the minimum value (returns the index)\n",
        "x,x.argmin()"
      ],
      "metadata": {
        "colab": {
          "base_uri": "https://localhost:8080/"
        },
        "id": "9a7rcY0sxzrf",
        "outputId": "bf169bbb-59a9-4875-edb9-4a64346c2df4"
      },
      "execution_count": null,
      "outputs": [
        {
          "output_type": "execute_result",
          "data": {
            "text/plain": [
              "(tensor([ 1, 11, 21, 31, 41, 51, 61, 71, 81, 91]), tensor(0))"
            ]
          },
          "metadata": {},
          "execution_count": 55
        }
      ]
    },
    {
      "cell_type": "code",
      "source": [
        "#find the position that has the maximum value with argmax()\n",
        "x,x.argmin()"
      ],
      "metadata": {
        "colab": {
          "base_uri": "https://localhost:8080/"
        },
        "id": "DSk4E9_qyMrs",
        "outputId": "8b9a8c79-b414-4363-f611-a6ff46244a99"
      },
      "execution_count": null,
      "outputs": [
        {
          "output_type": "execute_result",
          "data": {
            "text/plain": [
              "(tensor([ 1, 11, 21, 31, 41, 51, 61, 71, 81, 91]), tensor(0))"
            ]
          },
          "metadata": {},
          "execution_count": 56
        }
      ]
    },
    {
      "cell_type": "markdown",
      "source": [
        "## Reshaping, stacking, squeezing, and unsqueezing Tensors\n",
        "\n",
        "* Reshaping - reshapes an input tensor to a defined shape\n",
        "* View - Return a view of an input tensor of certain shape but keep the same memory as the original tensor\n",
        "* Stacking - combine multiple tensors on top of each other (vstack) or side by side (hstack)\n",
        "* Squeeze - removes all `1` dimensions from a tensor\n",
        "* Unsqueeze - add a `1` dimension to a target tensor\n",
        "* Permute - Return a view of the input with dimensions permuted (swapped) in a certain way"
      ],
      "metadata": {
        "id": "kNouOfPXzkZM"
      }
    },
    {
      "cell_type": "code",
      "source": [
        "import torch\n",
        "x = torch.arange(1,10,1)\n",
        "x.shape,x"
      ],
      "metadata": {
        "colab": {
          "base_uri": "https://localhost:8080/"
        },
        "id": "trALR5Yqx9Si",
        "outputId": "fd647b01-58e8-45ad-d1e7-2552c5ff842e"
      },
      "execution_count": null,
      "outputs": [
        {
          "output_type": "execute_result",
          "data": {
            "text/plain": [
              "(torch.Size([9]), tensor([1, 2, 3, 4, 5, 6, 7, 8, 9]))"
            ]
          },
          "metadata": {},
          "execution_count": 57
        }
      ]
    },
    {
      "cell_type": "code",
      "source": [
        "#add an extra dimension\n",
        "xReshaped = x.reshape(1,9)\n",
        "xReshaped"
      ],
      "metadata": {
        "colab": {
          "base_uri": "https://localhost:8080/"
        },
        "id": "sV63fBEdyiw_",
        "outputId": "ef981584-b7b2-4bf5-97d6-a489f4faf3d6"
      },
      "execution_count": null,
      "outputs": [
        {
          "output_type": "execute_result",
          "data": {
            "text/plain": [
              "tensor([[1, 2, 3, 4, 5, 6, 7, 8, 9]])"
            ]
          },
          "metadata": {},
          "execution_count": 58
        }
      ]
    },
    {
      "cell_type": "code",
      "source": [
        "# Change the view\n",
        "z = x.view(1,9)\n",
        "z,z.shape"
      ],
      "metadata": {
        "colab": {
          "base_uri": "https://localhost:8080/"
        },
        "id": "oo6Rjett00SL",
        "outputId": "3845224c-f069-4b9d-a85e-e006a30c5f1c"
      },
      "execution_count": null,
      "outputs": [
        {
          "output_type": "execute_result",
          "data": {
            "text/plain": [
              "(tensor([[1, 2, 3, 4, 5, 6, 7, 8, 9]]), torch.Size([1, 9]))"
            ]
          },
          "metadata": {},
          "execution_count": 59
        }
      ]
    },
    {
      "cell_type": "code",
      "source": [
        "# z is a shallow copy of x and they reference the same tensor\n",
        "z[:,0] = 5\n",
        "z,x"
      ],
      "metadata": {
        "colab": {
          "base_uri": "https://localhost:8080/"
        },
        "id": "VFYoMKbk02V2",
        "outputId": "8f7df265-4e82-4a97-e964-9b0136b147e0"
      },
      "execution_count": null,
      "outputs": [
        {
          "output_type": "execute_result",
          "data": {
            "text/plain": [
              "(tensor([[5, 2, 3, 4, 5, 6, 7, 8, 9]]), tensor([5, 2, 3, 4, 5, 6, 7, 8, 9]))"
            ]
          },
          "metadata": {},
          "execution_count": 60
        }
      ]
    },
    {
      "cell_type": "code",
      "source": [
        "# Stack tensors atop of one another\n",
        "xStacked = torch.stack([x,x,x,x], dim=0)\n",
        "xStacked"
      ],
      "metadata": {
        "colab": {
          "base_uri": "https://localhost:8080/"
        },
        "id": "_FpVjLiR1uKd",
        "outputId": "d0ea0c36-3bf1-4e0a-af52-ca604961c615"
      },
      "execution_count": null,
      "outputs": [
        {
          "output_type": "execute_result",
          "data": {
            "text/plain": [
              "tensor([[5, 2, 3, 4, 5, 6, 7, 8, 9],\n",
              "        [5, 2, 3, 4, 5, 6, 7, 8, 9],\n",
              "        [5, 2, 3, 4, 5, 6, 7, 8, 9],\n",
              "        [5, 2, 3, 4, 5, 6, 7, 8, 9]])"
            ]
          },
          "metadata": {},
          "execution_count": 61
        }
      ]
    },
    {
      "cell_type": "code",
      "source": [
        "xReshaped.shape\n"
      ],
      "metadata": {
        "colab": {
          "base_uri": "https://localhost:8080/"
        },
        "id": "iIUftrmM6ovq",
        "outputId": "9139fda9-90d3-4bb3-966e-827ddf862f72"
      },
      "execution_count": null,
      "outputs": [
        {
          "output_type": "execute_result",
          "data": {
            "text/plain": [
              "torch.Size([1, 9])"
            ]
          },
          "metadata": {},
          "execution_count": 62
        }
      ]
    },
    {
      "cell_type": "code",
      "source": [
        "#removes all single dimensions from target\n",
        "y = torch.squeeze(xReshaped)\n",
        "y"
      ],
      "metadata": {
        "colab": {
          "base_uri": "https://localhost:8080/"
        },
        "id": "gYfoYlOb7-Ol",
        "outputId": "5febbd74-d019-42c7-aca4-a47a143fd0d7"
      },
      "execution_count": null,
      "outputs": [
        {
          "output_type": "execute_result",
          "data": {
            "text/plain": [
              "tensor([5, 2, 3, 4, 5, 6, 7, 8, 9])"
            ]
          },
          "metadata": {},
          "execution_count": 63
        }
      ]
    },
    {
      "cell_type": "code",
      "source": [
        "#adds a single dimension to target\n",
        "print(f\"Previous target: {y}\")\n",
        "print(f\"Previous shape: {y.shape}\")\n",
        "\n",
        "yUnsqueezed = y.unsqueeze(dim=0)\n",
        "print(f\"New target: {yUnsqueezed}\")\n",
        "print(f\"New shape: {yUnsqueezed.shape}\")\n"
      ],
      "metadata": {
        "colab": {
          "base_uri": "https://localhost:8080/"
        },
        "id": "E25VROwB7-pL",
        "outputId": "04ca1b79-8cb0-491c-c3e3-c20f318fe486"
      },
      "execution_count": null,
      "outputs": [
        {
          "output_type": "stream",
          "name": "stdout",
          "text": [
            "Previous target: tensor([5, 2, 3, 4, 5, 6, 7, 8, 9])\n",
            "Previous shape: torch.Size([9])\n",
            "New target: tensor([[5, 2, 3, 4, 5, 6, 7, 8, 9]])\n",
            "New shape: torch.Size([1, 9])\n"
          ]
        }
      ]
    },
    {
      "cell_type": "code",
      "source": [
        "#torch.permute - rearranges the dimensions of a target tensor in specified order\n",
        "xOriginal = torch.rand(size=(224,224,3))\n",
        "xOriginal.shape"
      ],
      "metadata": {
        "colab": {
          "base_uri": "https://localhost:8080/"
        },
        "id": "ZvOrp0ke_KI0",
        "outputId": "42950dbe-a45a-4fd5-8364-1bf4c41f8808"
      },
      "execution_count": null,
      "outputs": [
        {
          "output_type": "execute_result",
          "data": {
            "text/plain": [
              "torch.Size([224, 224, 3])"
            ]
          },
          "metadata": {},
          "execution_count": 65
        }
      ]
    },
    {
      "cell_type": "code",
      "source": [
        "xPermuted = xOriginal.permute(2,1,0)\n",
        "xPermuted.shape\n",
        "\n",
        "print(f\"Original shape: {xOriginal.shape}\")\n",
        "print(f\"New shape: {xPermuted.shape}\")"
      ],
      "metadata": {
        "colab": {
          "base_uri": "https://localhost:8080/"
        },
        "id": "n9lYg7WhDmx6",
        "outputId": "d17d9295-9332-4306-9db2-66e09978b721"
      },
      "execution_count": null,
      "outputs": [
        {
          "output_type": "stream",
          "name": "stdout",
          "text": [
            "Original shape: torch.Size([224, 224, 3])\n",
            "New shape: torch.Size([3, 224, 224])\n"
          ]
        }
      ]
    },
    {
      "cell_type": "code",
      "source": [
        "xOriginal[0,0,0] = 1"
      ],
      "metadata": {
        "id": "1C63YcE9Fv6Q"
      },
      "execution_count": null,
      "outputs": []
    },
    {
      "cell_type": "code",
      "source": [
        "xPermuted"
      ],
      "metadata": {
        "colab": {
          "base_uri": "https://localhost:8080/"
        },
        "id": "8OJdgrl-F41p",
        "outputId": "3abf9b11-70f2-4058-af8b-d292632340d5"
      },
      "execution_count": null,
      "outputs": [
        {
          "output_type": "execute_result",
          "data": {
            "text/plain": [
              "tensor([[[1.0000, 0.7289, 0.7277,  ..., 0.7909, 0.2767, 0.9517],\n",
              "         [0.2048, 0.6429, 0.5156,  ..., 0.2891, 0.8699, 0.9807],\n",
              "         [0.9752, 0.1190, 0.6287,  ..., 0.5050, 0.8021, 0.0617],\n",
              "         ...,\n",
              "         [0.1076, 0.4368, 0.9882,  ..., 0.0757, 0.1791, 0.4543],\n",
              "         [0.3537, 0.2484, 0.8363,  ..., 0.2348, 0.4098, 0.9823],\n",
              "         [0.9952, 0.4844, 0.0143,  ..., 0.9816, 0.7842, 0.0088]],\n",
              "\n",
              "        [[0.5519, 0.8673, 0.9520,  ..., 0.9700, 0.0067, 0.7295],\n",
              "         [0.8948, 0.3122, 0.2282,  ..., 0.7615, 0.8479, 0.2204],\n",
              "         [0.5830, 0.0578, 0.5917,  ..., 0.2204, 0.8371, 0.8574],\n",
              "         ...,\n",
              "         [0.6983, 0.4416, 0.9601,  ..., 0.5552, 0.9209, 0.5866],\n",
              "         [0.4813, 0.3755, 0.8269,  ..., 0.6185, 0.9184, 0.9209],\n",
              "         [0.4038, 0.7430, 0.4154,  ..., 0.0354, 0.8933, 0.8614]],\n",
              "\n",
              "        [[0.9504, 0.5238, 0.1171,  ..., 0.8396, 0.9373, 0.5706],\n",
              "         [0.7583, 0.6112, 0.4195,  ..., 0.4065, 0.4903, 0.4780],\n",
              "         [0.9343, 0.9150, 0.6357,  ..., 0.9603, 0.7492, 0.9949],\n",
              "         ...,\n",
              "         [0.4826, 0.7360, 0.0549,  ..., 0.7072, 0.7925, 0.5047],\n",
              "         [0.4468, 0.7523, 0.5439,  ..., 0.5699, 0.6891, 0.5482],\n",
              "         [0.9574, 0.0328, 0.2990,  ..., 0.0339, 0.4912, 0.7190]]])"
            ]
          },
          "metadata": {},
          "execution_count": 68
        }
      ]
    },
    {
      "cell_type": "markdown",
      "source": [
        "## Indexing (selecting data from tensors)\n",
        "##### Indexing with PyTorch is similar to indexing with Numpy"
      ],
      "metadata": {
        "id": "aLJquMPEHCwm"
      }
    },
    {
      "cell_type": "code",
      "source": [
        "#create a tensor\n",
        "import torch\n",
        "x = torch.arange(1,10).reshape(1,3,3)\n",
        "x,x.shape"
      ],
      "metadata": {
        "colab": {
          "base_uri": "https://localhost:8080/"
        },
        "id": "VBJZioA4HOcZ",
        "outputId": "a11031a3-edda-4e7a-84b1-bb45c210496f"
      },
      "execution_count": null,
      "outputs": [
        {
          "output_type": "execute_result",
          "data": {
            "text/plain": [
              "(tensor([[[1, 2, 3],\n",
              "          [4, 5, 6],\n",
              "          [7, 8, 9]]]),\n",
              " torch.Size([1, 3, 3]))"
            ]
          },
          "metadata": {},
          "execution_count": 69
        }
      ]
    },
    {
      "cell_type": "code",
      "source": [
        "x[0][1]"
      ],
      "metadata": {
        "colab": {
          "base_uri": "https://localhost:8080/"
        },
        "id": "KXYpmtKlH3Xj",
        "outputId": "05c68207-bab5-4f67-bff4-4772140a74f3"
      },
      "execution_count": null,
      "outputs": [
        {
          "output_type": "execute_result",
          "data": {
            "text/plain": [
              "tensor([4, 5, 6])"
            ]
          },
          "metadata": {},
          "execution_count": 70
        }
      ]
    },
    {
      "cell_type": "code",
      "source": [
        "#how to get 9?\n",
        "x[0][2][2]"
      ],
      "metadata": {
        "colab": {
          "base_uri": "https://localhost:8080/"
        },
        "id": "YxpHcZ_AeME3",
        "outputId": "24a64b96-9eb4-4109-e0bc-68d8eca3260c"
      },
      "execution_count": null,
      "outputs": [
        {
          "output_type": "execute_result",
          "data": {
            "text/plain": [
              "tensor(9)"
            ]
          },
          "metadata": {},
          "execution_count": 71
        }
      ]
    },
    {
      "cell_type": "code",
      "source": [
        "#you can use : to select all from target dimension ie\n",
        "x[0][1][1]"
      ],
      "metadata": {
        "colab": {
          "base_uri": "https://localhost:8080/"
        },
        "id": "9_6kfEf0R29R",
        "outputId": "b9c0e7e1-dd03-4708-8055-498f724ff383"
      },
      "execution_count": null,
      "outputs": [
        {
          "output_type": "execute_result",
          "data": {
            "text/plain": [
              "tensor(5)"
            ]
          },
          "metadata": {},
          "execution_count": 72
        }
      ]
    },
    {
      "cell_type": "code",
      "source": [
        "# Get all values of 0th and 1st dimensions but only index 1 of 2nd dimension\n",
        "x[:,:,1]"
      ],
      "metadata": {
        "colab": {
          "base_uri": "https://localhost:8080/"
        },
        "id": "U3j0HQ8Teqle",
        "outputId": "5b245dea-9824-458b-adae-087a2a374a1d"
      },
      "execution_count": null,
      "outputs": [
        {
          "output_type": "execute_result",
          "data": {
            "text/plain": [
              "tensor([[2, 5, 8]])"
            ]
          },
          "metadata": {},
          "execution_count": 73
        }
      ]
    },
    {
      "cell_type": "code",
      "source": [
        "# get all the values of the 0 dimension but only the 1 index value of 1st and 2nd dimension\n",
        "x[0,1,1]"
      ],
      "metadata": {
        "colab": {
          "base_uri": "https://localhost:8080/"
        },
        "id": "aWRXyn1Ygj39",
        "outputId": "244f2a17-ffe6-49c6-9998-dd93afe8088f"
      },
      "execution_count": null,
      "outputs": [
        {
          "output_type": "execute_result",
          "data": {
            "text/plain": [
              "tensor(5)"
            ]
          },
          "metadata": {},
          "execution_count": 74
        }
      ]
    },
    {
      "cell_type": "code",
      "source": [
        "# Get index 0 of 0th and 1st dimension and all values of 2nd dimension\n",
        "x[0, 0, :]"
      ],
      "metadata": {
        "colab": {
          "base_uri": "https://localhost:8080/"
        },
        "id": "DalbCuOxg3rl",
        "outputId": "8dd10b7b-01b9-481b-976f-4f237329d766"
      },
      "execution_count": null,
      "outputs": [
        {
          "output_type": "execute_result",
          "data": {
            "text/plain": [
              "tensor([1, 2, 3])"
            ]
          },
          "metadata": {},
          "execution_count": 75
        }
      ]
    },
    {
      "cell_type": "code",
      "source": [
        "#index on x to return 9\n",
        "x[0,2,2]"
      ],
      "metadata": {
        "colab": {
          "base_uri": "https://localhost:8080/"
        },
        "id": "KIFMIQ8Dh-xM",
        "outputId": "edca1258-cc1e-4eb4-958a-865b94386572"
      },
      "execution_count": null,
      "outputs": [
        {
          "output_type": "execute_result",
          "data": {
            "text/plain": [
              "tensor(9)"
            ]
          },
          "metadata": {},
          "execution_count": 76
        }
      ]
    },
    {
      "cell_type": "code",
      "source": [
        "#return 3,6,9\n",
        "x[:,:,2]"
      ],
      "metadata": {
        "colab": {
          "base_uri": "https://localhost:8080/"
        },
        "id": "f5IKtP0JiXrB",
        "outputId": "d1733530-3f81-4182-e797-1b12400c1987"
      },
      "execution_count": null,
      "outputs": [
        {
          "output_type": "execute_result",
          "data": {
            "text/plain": [
              "tensor([[3, 6, 9]])"
            ]
          },
          "metadata": {},
          "execution_count": 77
        }
      ]
    },
    {
      "cell_type": "markdown",
      "source": [
        "## PyTorch Tensors & Numpy\n",
        "* Data in Numpy, want in PyTorch Tensor -> `torch.from_numpy(ndarray)\n",
        "* PyTorch tensor -> Numpy -> `torch.Tensor.numpy()`\n",
        "\n",
        "torch default is float32, np is float64"
      ],
      "metadata": {
        "id": "JPDu7jzFj_ZN"
      }
    },
    {
      "cell_type": "code",
      "source": [
        "# Numpy array to tensor\n",
        "import torch\n",
        "import numpy as np\n",
        "\n",
        "array = np.arange(1.0,8.0)\n",
        "tensor = torch.from_numpy(array)\n",
        "array,tensor\n"
      ],
      "metadata": {
        "colab": {
          "base_uri": "https://localhost:8080/"
        },
        "id": "5E5PrePVkMr5",
        "outputId": "71f83ae2-23c3-4e76-b4a7-2621ec0b9ae0"
      },
      "execution_count": null,
      "outputs": [
        {
          "output_type": "execute_result",
          "data": {
            "text/plain": [
              "(array([1., 2., 3., 4., 5., 6., 7.]),\n",
              " tensor([1., 2., 3., 4., 5., 6., 7.], dtype=torch.float64))"
            ]
          },
          "metadata": {},
          "execution_count": 78
        }
      ]
    },
    {
      "cell_type": "code",
      "source": [
        "array.dtype"
      ],
      "metadata": {
        "colab": {
          "base_uri": "https://localhost:8080/"
        },
        "id": "j19mjSrvkm4I",
        "outputId": "90bdacb6-ae4d-48d6-ec7d-ceabbc074042"
      },
      "execution_count": null,
      "outputs": [
        {
          "output_type": "execute_result",
          "data": {
            "text/plain": [
              "dtype('float64')"
            ]
          },
          "metadata": {},
          "execution_count": 79
        }
      ]
    },
    {
      "cell_type": "code",
      "source": [
        "torch.arange(1.0,8.0).dtype"
      ],
      "metadata": {
        "colab": {
          "base_uri": "https://localhost:8080/"
        },
        "id": "0dXPUC9jmpfX",
        "outputId": "d3f14c31-d6e9-439d-b4ca-061659376f85"
      },
      "execution_count": null,
      "outputs": [
        {
          "output_type": "execute_result",
          "data": {
            "text/plain": [
              "torch.float32"
            ]
          },
          "metadata": {},
          "execution_count": 80
        }
      ]
    },
    {
      "cell_type": "code",
      "source": [
        "# change the value of array, what will this do to `tensor`?\n",
        "array = array + 1\n",
        "array,tensor"
      ],
      "metadata": {
        "colab": {
          "base_uri": "https://localhost:8080/"
        },
        "id": "ggyq5dgfmwGM",
        "outputId": "c50656a7-434f-453d-e4d0-02909348370e"
      },
      "execution_count": null,
      "outputs": [
        {
          "output_type": "execute_result",
          "data": {
            "text/plain": [
              "(array([2., 3., 4., 5., 6., 7., 8.]),\n",
              " tensor([1., 2., 3., 4., 5., 6., 7.], dtype=torch.float64))"
            ]
          },
          "metadata": {},
          "execution_count": 81
        }
      ]
    },
    {
      "cell_type": "code",
      "source": [
        "# Tensor to Numpy array\n",
        "tensor = torch.ones(7)\n",
        "numpyTensor = tensor.numpy()\n",
        "tensor,numpyTensor"
      ],
      "metadata": {
        "colab": {
          "base_uri": "https://localhost:8080/"
        },
        "id": "-R2PonW1nGsu",
        "outputId": "4f7a052b-71c7-4331-ccb5-1416c6a67871"
      },
      "execution_count": null,
      "outputs": [
        {
          "output_type": "execute_result",
          "data": {
            "text/plain": [
              "(tensor([1., 1., 1., 1., 1., 1., 1.]),\n",
              " array([1., 1., 1., 1., 1., 1., 1.], dtype=float32))"
            ]
          },
          "metadata": {},
          "execution_count": 82
        }
      ]
    },
    {
      "cell_type": "code",
      "source": [
        "tensor = tensor+1\n",
        "tensor, numpyTensor"
      ],
      "metadata": {
        "colab": {
          "base_uri": "https://localhost:8080/"
        },
        "id": "U-C5MU0PnZ5c",
        "outputId": "8af84bd2-9339-4468-9f1c-68ff6f34ba13"
      },
      "execution_count": null,
      "outputs": [
        {
          "output_type": "execute_result",
          "data": {
            "text/plain": [
              "(tensor([2., 2., 2., 2., 2., 2., 2.]),\n",
              " array([1., 1., 1., 1., 1., 1., 1.], dtype=float32))"
            ]
          },
          "metadata": {},
          "execution_count": 83
        }
      ]
    },
    {
      "cell_type": "markdown",
      "source": [
        "# Reproducibility (trying to take random out of random)\n",
        "\n",
        "`start with random numbers -> tensor operations -> update random numbers to try making better operations`\n",
        "\n",
        "introduce idea of random seed."
      ],
      "metadata": {
        "id": "DJX8SYTuor4s"
      }
    },
    {
      "cell_type": "code",
      "source": [
        "import torch\n",
        "randomTensorA = torch.rand(3,4)\n",
        "randomTensorB = torch.rand(3,4)\n",
        "\n",
        "print(randomTensorA)\n",
        "print(randomTensorB)\n",
        "print(randomTensorA == randomTensorB)"
      ],
      "metadata": {
        "colab": {
          "base_uri": "https://localhost:8080/"
        },
        "id": "Jzo7SjaQo0EI",
        "outputId": "db805feb-552a-4e26-a4bd-a3c97e60c6ad"
      },
      "execution_count": null,
      "outputs": [
        {
          "output_type": "stream",
          "name": "stdout",
          "text": [
            "tensor([[0.7507, 0.0480, 0.1276, 0.0281],\n",
            "        [0.8700, 0.6391, 0.8646, 0.7579],\n",
            "        [0.2544, 0.9416, 0.2757, 0.1199]])\n",
            "tensor([[0.8135, 0.6827, 0.5710, 0.8508],\n",
            "        [0.2529, 0.9477, 0.1371, 0.1951],\n",
            "        [0.9335, 0.6857, 0.7255, 0.4354]])\n",
            "tensor([[False, False, False, False],\n",
            "        [False, False, False, False],\n",
            "        [False, False, False, False]])\n"
          ]
        }
      ]
    },
    {
      "cell_type": "code",
      "source": [
        "import torch\n",
        "\n",
        "RANDOM_SEED = 42\n",
        "torch.manual_seed(RANDOM_SEED)\n",
        "\n",
        "randomTensorC = torch.rand(3,4)\n",
        "\n",
        "torch.manual_seed(RANDOM_SEED)\n",
        "randomTensorD = torch.rand(3,4)\n",
        "\n",
        "print(randomTensorC)\n",
        "print(randomTensorD)\n",
        "print(randomTensorC == randomTensorD)\n"
      ],
      "metadata": {
        "colab": {
          "base_uri": "https://localhost:8080/"
        },
        "id": "l1xV2ETXpuv0",
        "outputId": "fb17a985-c440-4b38-ac25-c56a9c5ff896"
      },
      "execution_count": null,
      "outputs": [
        {
          "output_type": "stream",
          "name": "stdout",
          "text": [
            "tensor([[0.8823, 0.9150, 0.3829, 0.9593],\n",
            "        [0.3904, 0.6009, 0.2566, 0.7936],\n",
            "        [0.9408, 0.1332, 0.9346, 0.5936]])\n",
            "tensor([[0.8823, 0.9150, 0.3829, 0.9593],\n",
            "        [0.3904, 0.6009, 0.2566, 0.7936],\n",
            "        [0.9408, 0.1332, 0.9346, 0.5936]])\n",
            "tensor([[True, True, True, True],\n",
            "        [True, True, True, True],\n",
            "        [True, True, True, True]])\n"
          ]
        }
      ]
    },
    {
      "cell_type": "markdown",
      "source": [
        "## Running Tensors and PyTorch Ojbects on the GPU (and making faster computation)"
      ],
      "metadata": {
        "id": "UsFmj09XTvsd"
      }
    },
    {
      "cell_type": "markdown",
      "source": [
        "### 1. Getting a GPU\n",
        "\n",
        "1. Just use Colab\n",
        "2. Set it up locally.\n",
        "3. Use cloud computing - GCP, AWS, Azure"
      ],
      "metadata": {
        "id": "3HGSPom4ULor"
      }
    },
    {
      "cell_type": "code",
      "source": [
        "!nvidia-smi"
      ],
      "metadata": {
        "colab": {
          "base_uri": "https://localhost:8080/"
        },
        "id": "rlpdcGcnUMqZ",
        "outputId": "6de9be69-e736-4cd0-d68a-6a34d7afdf7b"
      },
      "execution_count": null,
      "outputs": [
        {
          "output_type": "stream",
          "name": "stdout",
          "text": [
            "Fri Jan 24 22:10:56 2025       \n",
            "+---------------------------------------------------------------------------------------+\n",
            "| NVIDIA-SMI 535.104.05             Driver Version: 535.104.05   CUDA Version: 12.2     |\n",
            "|-----------------------------------------+----------------------+----------------------+\n",
            "| GPU  Name                 Persistence-M | Bus-Id        Disp.A | Volatile Uncorr. ECC |\n",
            "| Fan  Temp   Perf          Pwr:Usage/Cap |         Memory-Usage | GPU-Util  Compute M. |\n",
            "|                                         |                      |               MIG M. |\n",
            "|=========================================+======================+======================|\n",
            "|   0  Tesla T4                       Off | 00000000:00:04.0 Off |                    0 |\n",
            "| N/A   38C    P8               9W /  70W |      0MiB / 15360MiB |      0%      Default |\n",
            "|                                         |                      |                  N/A |\n",
            "+-----------------------------------------+----------------------+----------------------+\n",
            "                                                                                         \n",
            "+---------------------------------------------------------------------------------------+\n",
            "| Processes:                                                                            |\n",
            "|  GPU   GI   CI        PID   Type   Process name                            GPU Memory |\n",
            "|        ID   ID                                                             Usage      |\n",
            "|=======================================================================================|\n",
            "|  No running processes found                                                           |\n",
            "+---------------------------------------------------------------------------------------+\n"
          ]
        }
      ]
    },
    {
      "cell_type": "markdown",
      "source": [
        "### 2. Check for GPU access with PyTorch"
      ],
      "metadata": {
        "id": "E4T2b4MeXwRj"
      }
    },
    {
      "cell_type": "code",
      "source": [
        "# Check for GPU access with PyToch\n",
        "import torch\n",
        "torch.cuda.is_available()"
      ],
      "metadata": {
        "colab": {
          "base_uri": "https://localhost:8080/"
        },
        "id": "c-P5sdCsYJxa",
        "outputId": "995f56d2-476f-46d3-99ff-4f2c620a6393"
      },
      "execution_count": null,
      "outputs": [
        {
          "output_type": "execute_result",
          "data": {
            "text/plain": [
              "True"
            ]
          },
          "metadata": {},
          "execution_count": 5
        }
      ]
    },
    {
      "cell_type": "code",
      "source": [
        "# Setup device agnostic Code\n",
        "device = \"cuda\" if torch.cuda.is_available() else \"cpu\"\n",
        "device"
      ],
      "metadata": {
        "colab": {
          "base_uri": "https://localhost:8080/",
          "height": 35
        },
        "id": "P8sgdzYeZjzN",
        "outputId": "a9032da4-1e56-4452-cb54-140171a9c3f3"
      },
      "execution_count": null,
      "outputs": [
        {
          "output_type": "execute_result",
          "data": {
            "text/plain": [
              "'cuda'"
            ],
            "application/vnd.google.colaboratory.intrinsic+json": {
              "type": "string"
            }
          },
          "metadata": {},
          "execution_count": 8
        }
      ]
    },
    {
      "cell_type": "code",
      "source": [
        "# Count Number of Devices\n",
        "torch.cuda.device_count()"
      ],
      "metadata": {
        "colab": {
          "base_uri": "https://localhost:8080/"
        },
        "id": "Off6OFRoZxtH",
        "outputId": "48f40bf3-8273-4315-ccd6-7ee52a970044"
      },
      "execution_count": null,
      "outputs": [
        {
          "output_type": "execute_result",
          "data": {
            "text/plain": [
              "1"
            ]
          },
          "metadata": {},
          "execution_count": 9
        }
      ]
    },
    {
      "cell_type": "markdown",
      "source": [
        "## 3. Putting tensors and Models on the GPU\n",
        "\n",
        "Using a GPU means faster computations"
      ],
      "metadata": {
        "id": "YJwCvJZibIMO"
      }
    },
    {
      "cell_type": "code",
      "source": [
        "#create a tensor (default on the CPU)\n",
        "tensor = torch.tensor([1,2,3], device='cpu')\n",
        "print(tensor, tensor.device)"
      ],
      "metadata": {
        "colab": {
          "base_uri": "https://localhost:8080/"
        },
        "id": "_kjc6ONdbi7l",
        "outputId": "10f1f3c1-efaa-4059-9181-4c0132af0d07"
      },
      "execution_count": null,
      "outputs": [
        {
          "output_type": "stream",
          "name": "stdout",
          "text": [
            "tensor([1, 2, 3]) cpu\n"
          ]
        }
      ]
    },
    {
      "cell_type": "code",
      "source": [
        "#Move tensor to gpu (if available)\n",
        "tensor_on_gpu = tensor.to(device)\n",
        "tensor_on_gpu"
      ],
      "metadata": {
        "colab": {
          "base_uri": "https://localhost:8080/"
        },
        "id": "wCVcrwFsdVZO",
        "outputId": "7ff00de2-48f9-41bd-fe9a-e1ff7b8ac426"
      },
      "execution_count": null,
      "outputs": [
        {
          "output_type": "execute_result",
          "data": {
            "text/plain": [
              "tensor([1, 2, 3], device='cuda:0')"
            ]
          },
          "metadata": {},
          "execution_count": 11
        }
      ]
    },
    {
      "cell_type": "markdown",
      "source": [
        "###4 . Moving Tensors back to the CPU\n"
      ],
      "metadata": {
        "id": "WObfc8_JdqW5"
      }
    },
    {
      "cell_type": "code",
      "source": [
        "#if the tensor is on the gpu, we can't transform it to Numpy\n",
        "tensor_on_cpu = tensor_on_gpu.to('cpu').numpy()\n",
        "tensor_on_cpu"
      ],
      "metadata": {
        "colab": {
          "base_uri": "https://localhost:8080/"
        },
        "id": "S3zS5wRXdsS6",
        "outputId": "29219c0f-0997-414e-beb4-6d98a62ff8a9"
      },
      "execution_count": null,
      "outputs": [
        {
          "output_type": "execute_result",
          "data": {
            "text/plain": [
              "array([1, 2, 3])"
            ]
          },
          "metadata": {},
          "execution_count": 13
        }
      ]
    },
    {
      "cell_type": "markdown",
      "source": [
        "# Exercises"
      ],
      "metadata": {
        "id": "wra8g7PNgiqc"
      }
    },
    {
      "cell_type": "code",
      "source": [
        "#2 Create a random tensor with shape (7,7)\n",
        "import torch\n",
        "randomTensor = torch.rand(7,7)\n",
        "randomTensor"
      ],
      "metadata": {
        "colab": {
          "base_uri": "https://localhost:8080/"
        },
        "id": "W2vLnzfbc4pB",
        "outputId": "238e7531-632b-4f1f-93bd-262106035ffe"
      },
      "execution_count": null,
      "outputs": [
        {
          "output_type": "execute_result",
          "data": {
            "text/plain": [
              "tensor([[0.7903, 0.0152, 0.3598, 0.7220, 0.3671, 0.4422, 0.2782],\n",
              "        [0.8254, 0.9797, 0.3027, 0.7447, 0.1440, 0.7986, 0.9821],\n",
              "        [0.5601, 0.0029, 0.8231, 0.8790, 0.0166, 0.5731, 0.6121],\n",
              "        [0.4187, 0.0614, 0.6229, 0.0232, 0.5755, 0.4900, 0.1539],\n",
              "        [0.6914, 0.0609, 0.5321, 0.0290, 0.7666, 0.0764, 0.9458],\n",
              "        [0.6142, 0.6342, 0.2491, 0.4733, 0.9064, 0.0728, 0.1932],\n",
              "        [0.5186, 0.8965, 0.8892, 0.0407, 0.9715, 0.2886, 0.3221]])"
            ]
          },
          "metadata": {},
          "execution_count": 3
        }
      ]
    },
    {
      "cell_type": "code",
      "source": [
        "#3 Perform matrix multiplication on the tensor from 2 with another random tensor with shape (1,7)\n",
        "randomTensor2 = torch.rand(1,7)\n",
        "#(7x7) by (1,7) is not allowed -> transpose\n",
        "randomTensor2Transpose = torch.transpose(randomTensor2,0,1)\n",
        "randomTensor2Transpose.shape\n",
        "\n",
        "matrixMulTensor = torch.matmul(randomTensor, randomTensor2Transpose)\n",
        "matrixMulTensor\n",
        "\n"
      ],
      "metadata": {
        "colab": {
          "base_uri": "https://localhost:8080/"
        },
        "id": "p9HbElOFdNQg",
        "outputId": "6cc58e82-9d69-47c3-dfa7-8a0e5bcaf2d0"
      },
      "execution_count": null,
      "outputs": [
        {
          "output_type": "execute_result",
          "data": {
            "text/plain": [
              "tensor([[1.2510],\n",
              "        [2.7459],\n",
              "        [1.6656],\n",
              "        [0.9807],\n",
              "        [1.3090],\n",
              "        [1.2402],\n",
              "        [1.6690]])"
            ]
          },
          "metadata": {},
          "execution_count": 12
        }
      ]
    },
    {
      "cell_type": "code",
      "source": [
        "#4 Set the random seed to 0\n",
        "torch.manual_seed(0)\n",
        "randomTensorRandomSeed = torch.rand(7,7)\n",
        "\n",
        "torch.manual_seed(0)\n",
        "randomTensor2RandomSeedTranspose = torch.rand(1,7).T\n",
        "\n",
        "matrixMulTensorQues3 = torch.matmul(randomTensorRandomSeed,randomTensor2RandomSeedTranspose)"
      ],
      "metadata": {
        "id": "38lV9_syfeFm"
      },
      "execution_count": null,
      "outputs": []
    },
    {
      "cell_type": "code",
      "source": [
        "#5 Torch Manual Seed for GPU\n",
        "torch.cuda.manual_seed(1234)"
      ],
      "metadata": {
        "id": "Xb-QnR6Thfka"
      },
      "execution_count": null,
      "outputs": []
    },
    {
      "cell_type": "code",
      "source": [
        "#6 Create two random tensors of shape (2,3) and send to gpu & set manual seed t o1234\n",
        "device = \"cuda\" if torch.cuda.is_available() else \"cpu\"\n",
        "torch.manual_seed(1234)\n",
        "randomTensor6_1 = torch.rand((2,3),device=device)\n",
        "\n",
        "torch.manual_seed(1234)\n",
        "randomTensor6_2 = torch.rand((2,3), device=device)\n",
        "\n"
      ],
      "metadata": {
        "id": "vvvwWV4Xh6SJ"
      },
      "execution_count": null,
      "outputs": []
    },
    {
      "cell_type": "code",
      "source": [
        "#7 Perform a matrix multiplication on the new tensors\n",
        "# 2x3 by 2 x 3 not allowed -> transpose\n",
        "matrixMulTensorQues7 = torch.matmul(randomTensor6_1, randomTensor6_2.T)\n",
        "matrixMulTensorQues7"
      ],
      "metadata": {
        "colab": {
          "base_uri": "https://localhost:8080/"
        },
        "id": "mYIKmCYfjLkT",
        "outputId": "75b40dc0-251f-45a1-a05e-4a4fd2e79911"
      },
      "execution_count": null,
      "outputs": [
        {
          "output_type": "execute_result",
          "data": {
            "text/plain": [
              "tensor([[0.9792, 0.8358],\n",
              "        [0.8358, 1.4578]], device='cuda:0')"
            ]
          },
          "metadata": {},
          "execution_count": 29
        }
      ]
    },
    {
      "cell_type": "code",
      "source": [
        "#8 Find the maximum and minimum values of the output of 7\n",
        "minimumValue = torch.min(matrixMulTensorQues7)\n",
        "\n",
        "\n",
        "maximumValue = torch.max(matrixMulTensorQues7)\n",
        "minimumValue, maximumValue"
      ],
      "metadata": {
        "colab": {
          "base_uri": "https://localhost:8080/"
        },
        "id": "nOR0cmT9j-2u",
        "outputId": "d6570f8f-7476-494a-a078-985d1ba4e587"
      },
      "execution_count": null,
      "outputs": [
        {
          "output_type": "execute_result",
          "data": {
            "text/plain": [
              "(tensor(0.8358, device='cuda:0'), tensor(1.4578, device='cuda:0'))"
            ]
          },
          "metadata": {},
          "execution_count": 33
        }
      ]
    },
    {
      "cell_type": "code",
      "source": [
        "#9 Find the maximum and minimum index values of the output of 7\n",
        "minimumValueLocation = torch.argmin(matrixMulTensorQues7)\n",
        "maximumValueLocation = torch.argmax(matrixMulTensorQues7)\n",
        "\n",
        "minimumValueLocation, maximumValueLocation"
      ],
      "metadata": {
        "colab": {
          "base_uri": "https://localhost:8080/"
        },
        "id": "Ge1tlcEQkT9E",
        "outputId": "e9a31855-d660-44a1-ccb8-dfc9b10f36e2"
      },
      "execution_count": null,
      "outputs": [
        {
          "output_type": "execute_result",
          "data": {
            "text/plain": [
              "(tensor(1, device='cuda:0'), tensor(3, device='cuda:0'))"
            ]
          },
          "metadata": {},
          "execution_count": 36
        }
      ]
    },
    {
      "cell_type": "code",
      "source": [],
      "metadata": {
        "id": "eSnq-0P4kZ4G"
      },
      "execution_count": null,
      "outputs": []
    }
  ]
}